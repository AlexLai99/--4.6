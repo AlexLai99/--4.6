{
 "cells": [
  {
   "cell_type": "code",
   "execution_count": 1,
   "metadata": {},
   "outputs": [],
   "source": [
    "import requests\n",
    "import pandas as pd\n",
    "import time"
   ]
  },
  {
   "cell_type": "code",
   "execution_count": 2,
   "metadata": {},
   "outputs": [],
   "source": [
    "df=pd.read_csv('D:/Onedrive/疫情/DXYArea0407.csv')\n",
    "def time_c(timeNum):\n",
    "    timeTemp = float(timeNum/1000)\n",
    "    tupTime = time.localtime(timeTemp)\n",
    "    standardTime = time.strftime(\"%Y-%m-%d %H:%M:%S\", tupTime)\n",
    "    return standardTime"
   ]
  },
  {
   "cell_type": "code",
   "execution_count": 3,
   "metadata": {},
   "outputs": [],
   "source": [
    "for i in range(len(df)):\n",
    "    df.iloc[i,11] = df.iloc[i,11][5:10]"
   ]
  },
  {
   "cell_type": "code",
   "execution_count": 4,
   "metadata": {},
   "outputs": [],
   "source": [
    "df.replace('Burma','Myanmar',inplace=True)\n",
    "df.loc[df['countryName']=='吉尔吉斯斯坦', 'countryEnglishName'] = 'Kyrgyzstan'\n",
    "df[df['countryName']=='吉尔吉斯斯坦']['countryEnglishName']\n",
    "df.loc[df['countryName']=='南苏丹', 'countryEnglishName'] = 'S. Sudan'\n",
    "df.loc[df['countryName']=='格陵兰', 'countryEnglishName'] = 'Greenland'\n",
    "df.loc[df['countryName']=='刚果（金）', 'countryEnglishName'] = 'Dem. Rep. Congo'\n",
    "df.loc[df['countryName']=='刚果（布）', 'countryEnglishName'] = 'Congo'\n",
    "df.loc[df['countryName']=='赞比亚共和国', 'countryEnglishName'] = 'Zambia'\n",
    "df.loc[df['countryName']=='科特迪瓦', 'countryEnglishName'] = \"Côte d'Ivoire\"\n",
    "df.loc[df['countryName']=='东帝汶', 'countryEnglishName'] = \"Timor-Leste\"\n",
    "df.loc[df['countryName']=='黑山', 'countryEnglishName'] = \"Montenegro\"\n",
    "df.loc[df['countryName']=='塞尔维亚', 'countryEnglishName'] = \"Serbia\"\n",
    "df.loc[df['countryName']=='北马其顿', 'countryEnglishName'] = \"Macedonia\"\n",
    "df.loc[df['countryName']=='黑山', 'countryEnglishName'] = \"Montenegro\"\n",
    "df.loc[df['countryName']=='柬埔寨', 'countryEnglishName'] = \"Cambodia\"\n",
    "df.loc[df['countryName']=='不丹', 'countryEnglishName'] = \"Bhutan\"\n",
    "df.loc[df['countryName']=='黑山', 'countryEnglishName'] = \"Montenegro\"\n",
    "df.loc[df['countryName']=='塔吉克斯坦', 'countryEnglishName'] = \"Tajikistan\"\n",
    "df.loc[df['countryName']=='土库曼斯坦', 'countryEnglishName'] = \"Turkmenistan\"\n",
    "df.loc[df['countryName']=='索马里', 'countryEnglishName'] = \"Somalia\"\n",
    "df.loc[df['countryName']=='也门', 'countryEnglishName'] = \"Yemen\"\n",
    "df.loc[df['countryName']=='美国', 'countryEnglishName'] = \"United States\"\n",
    "df.loc[df['countryName']=='英国', 'countryEnglishName'] = \"United Kingdom\"\n",
    "df.loc[df['countryName']=='波黑', 'countryEnglishName'] = \"Bosnia and Herz.\"\n",
    "df.loc[df['countryName']=='捷克', 'countryEnglishName'] = \"Czech Rep.\"\n",
    "df.loc[df['countryName']=='莱索托', 'countryEnglishName'] = \"Lesotho\"\n",
    "df.loc[df['countryName']=='毛里塔尼亚', 'countryEnglishName'] = \"Mauritania\"\n",
    "df.loc[df['countryName']=='斯里兰卡', 'countryEnglishName'] = \"Sri Lanka\"\n",
    "df.loc[df['countryName']=='布隆迪共和国', 'countryEnglishName'] = \"Burundi\"\n",
    "df.loc[df['countryName']=='卢旺达', 'countryEnglishName'] = \"Rwanda\"\n",
    "df.loc[df['countryName']=='多米尼加', 'countryEnglishName'] = \"Dominican Rep.\"\n",
    "df.loc[df['countryName']=='厄立特里亚', 'countryEnglishName'] = \"Eritrea\"\n",
    "df.loc[df['countryName']=='中非共和国', 'countryEnglishName'] = \"Central African Rep.\"\n",
    "df.loc[df['countryName']=='老挝', 'countryEnglishName'] = \"Lao PDR\"\n",
    "df.loc[df['countryName']=='厄立特里亚', 'countryEnglishName'] = \"Eritrea\"\n",
    "df.loc[df['countryName']=='新喀里多尼亚', 'countryEnglishName'] = \"New Caledonia\"\n",
    "df.loc[df['countryName']=='福克兰群岛', 'countryEnglishName'] = \"Falkland Is.\"\n",
    "df.loc[df['countryName']=='几内亚比绍', 'countryEnglishName'] = \"Guinea-Bissau\"\n",
    "df.loc[df['countryName']=='赤道几内亚', 'countryEnglishName'] = \"Eq.Guinea\"\n",
    "df.loc[df['countryName']=='佛得角', 'countryEnglishName'] = \"Cape Verde\""
   ]
  },
  {
   "cell_type": "code",
   "execution_count": 5,
   "metadata": {},
   "outputs": [],
   "source": [
    "date=pd.read_excel('D:/Onedrive/疫情/date.xlsx')['日期']\n",
    "tem = df[df['updateTime'] == '01-22']\n",
    "tem = tem.drop_duplicates(['provinceName'], keep='first')\n",
    "#截止到04-07\n",
    "for i in date[3:79]:\n",
    "    tem1 = df[df['updateTime'] == i]\n",
    "    tem1 = tem1.drop_duplicates(['provinceName'], keep='first')\n",
    "    tem = tem.append(tem1)"
   ]
  },
  {
   "cell_type": "code",
   "execution_count": 6,
   "metadata": {},
   "outputs": [],
   "source": [
    "tem = tem.reset_index(drop=True)\n",
    "#tem.to_excel('D:/Onedrive/疫情/去重0407.xlsx')"
   ]
  },
  {
   "cell_type": "code",
   "execution_count": 7,
   "metadata": {},
   "outputs": [],
   "source": [
    "country=df.drop_duplicates(['countryName'],keep='first')['countryEnglishName']\n",
    "country = country.reset_index(drop=True)\n"
   ]
  },
  {
   "cell_type": "code",
   "execution_count": 8,
   "metadata": {},
   "outputs": [
    {
     "name": "stderr",
     "output_type": "stream",
     "text": [
      "d:\\program files\\python37\\lib\\site-packages\\ipykernel_launcher.py:7: UserWarning: Boolean Series key will be reindexed to match DataFrame index.\n",
      "  import sys\n",
      "d:\\program files\\python37\\lib\\site-packages\\ipykernel_launcher.py:8: UserWarning: Boolean Series key will be reindexed to match DataFrame index.\n",
      "  \n"
     ]
    },
    {
     "name": "stdout",
     "output_type": "stream",
     "text": [
      "已完成确诊数据清洗\n"
     ]
    }
   ],
   "source": [
    "#截止到04-07\n",
    "date = date[2:79].reset_index(drop=True)\n",
    "df3=[]\n",
    "for i in country:\n",
    "    df1=[]\n",
    "    for j in date:\n",
    "        province=tem[tem['countryEnglishName'] == i][tem['updateTime'] == j]['provinceName'].reset_index(drop=True)\n",
    "        a=tem[tem['countryEnglishName'] == i][tem['updateTime'] == j].sum()['province_confirmedCount']\n",
    "        for k in province:\n",
    "            #特殊情况：中国总计和各省总计容易混淆\n",
    "            if k==i:\n",
    "                a=tem[tem['countryName'] == k][tem['updateTime'] == j][tem['provinceName'] == k]['province_confirmedCount'].reset_index(drop=True)[0]\n",
    "            else:\n",
    "                pass\n",
    "        df1.append(a)\n",
    "    df3=pd.concat([pd.DataFrame(df3),pd.DataFrame(df1)],axis=1)\n",
    "df3.columns = country.tolist()\n",
    "df3=pd.concat([date,df3],axis=1)\n",
    "df3.to_excel('D:/Onedrive/疫情/确诊人数时间序列0407.xlsx')\n",
    "print ('已完成确诊数据清洗')"
   ]
  },
  {
   "cell_type": "code",
   "execution_count": 11,
   "metadata": {},
   "outputs": [],
   "source": [
    "tem.drop_duplicates(['provinceName','updateTime'],keep='first',inplace=True)\n",
    "tem=tem.reset_index(drop=True)\n",
    "df4=[]\n"
   ]
  },
  {
   "cell_type": "code",
   "execution_count": 12,
   "metadata": {},
   "outputs": [
    {
     "name": "stderr",
     "output_type": "stream",
     "text": [
      "d:\\program files\\python37\\lib\\site-packages\\ipykernel_launcher.py:1: UserWarning: Boolean Series key will be reindexed to match DataFrame index.\n",
      "  \"\"\"Entry point for launching an IPython kernel.\n"
     ]
    },
    {
     "data": {
      "text/plain": [
       "Series([], Name: province_confirmedCount, dtype: int64)"
      ]
     },
     "execution_count": 12,
     "metadata": {},
     "output_type": "execute_result"
    }
   ],
   "source": [
    "tem[tem['countryEnglishName'] == k][tem['updateTime'] == j][tem['provinceEnglishName'] == k]['province_confirmedCount']"
   ]
  },
  {
   "cell_type": "code",
   "execution_count": 18,
   "metadata": {},
   "outputs": [
    {
     "name": "stderr",
     "output_type": "stream",
     "text": [
      "d:\\program files\\python37\\lib\\site-packages\\ipykernel_launcher.py:6: UserWarning: Boolean Series key will be reindexed to match DataFrame index.\n",
      "  \n",
      "d:\\program files\\python37\\lib\\site-packages\\ipykernel_launcher.py:7: UserWarning: Boolean Series key will be reindexed to match DataFrame index.\n",
      "  import sys\n",
      "d:\\program files\\python37\\lib\\site-packages\\ipykernel_launcher.py:11: UserWarning: Boolean Series key will be reindexed to match DataFrame index.\n",
      "  # This is added back by InteractiveShellApp.init_path()\n"
     ]
    }
   ],
   "source": [
    "for i in country:\n",
    "    d1=[]\n",
    "    d2=[]\n",
    "    d3=[]\n",
    "    for j in date:\n",
    "        province=tem[tem['countryEnglishName'] == i][tem['updateTime'] == j]['provinceEnglishName'].reset_index(drop=True)\n",
    "        b=tem[tem['countryEnglishName'] == i][tem['updateTime'] == j].sum()['province_confirmedCount']\n",
    "        for k in province:\n",
    "            #特殊情况：中国总计和各省总计容易混淆\n",
    "            if k==i:\n",
    "                b=tem[tem['countryEnglishName'] == k][tem['updateTime'] == j][tem['provinceEnglishName'] == k]['province_confirmedCount'].reset_index(drop=True)[0]\n",
    "            else:\n",
    "                pass\n",
    "        d1.append(b)\n",
    "        d3.append(j)\n",
    "        d2.append(i)\n",
    "    d2=pd.concat([pd.DataFrame(d2),pd.DataFrame(d1)],axis=1)\n",
    "    d3=pd.concat([pd.DataFrame(d3),pd.DataFrame(d2)],axis=1)\n",
    "    df4=pd.concat([pd.DataFrame(d3),pd.DataFrame(df4)],axis=0).reset_index(drop=True)"
   ]
  },
  {
   "cell_type": "code",
   "execution_count": 19,
   "metadata": {},
   "outputs": [
    {
     "name": "stdout",
     "output_type": "stream",
     "text": [
      "已完成可视化确诊数据清洗\n"
     ]
    }
   ],
   "source": [
    "df4.columns=['date','country','confirmedCount']\n",
    "#df4.dropna(axis=0,how='any')\n",
    "df4.fillna(0,inplace=True)\n",
    "df4=df4[~df4['country'].isin([0])]\n",
    "df4.to_excel('D:/Onedrive/疫情/确诊人数0407可用时间序列数据2.xlsx')\n",
    "df5=df4[df4['country'].isin(['United States','France','Germany','Italy','Japan','China','India','Korea','Spain'])]\n",
    "df5.to_excel('D:/Onedrive/疫情/重点国家确诊人数0407_2.xlsx')\n",
    "print ('已完成可视化确诊数据清洗')"
   ]
  },
  {
   "cell_type": "code",
   "execution_count": null,
   "metadata": {},
   "outputs": [],
   "source": []
  }
 ],
 "metadata": {
  "kernelspec": {
   "display_name": "Python 3",
   "language": "python",
   "name": "python3"
  },
  "language_info": {
   "codemirror_mode": {
    "name": "ipython",
    "version": 3
   },
   "file_extension": ".py",
   "mimetype": "text/x-python",
   "name": "python",
   "nbconvert_exporter": "python",
   "pygments_lexer": "ipython3",
   "version": "3.7.2"
  }
 },
 "nbformat": 4,
 "nbformat_minor": 2
}
